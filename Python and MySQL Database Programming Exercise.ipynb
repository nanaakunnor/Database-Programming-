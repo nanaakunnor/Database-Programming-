{
 "cells": [
  {
   "cell_type": "code",
   "execution_count": 1,
   "metadata": {},
   "outputs": [],
   "source": [
    "import mysql.connector\n",
    "from mysql.connector import Error\n",
    "import pandas as pd\n",
    "\n",
    "import warnings\n",
    "warnings.filterwarnings(\"ignore\")"
   ]
  },
  {
   "cell_type": "code",
   "execution_count": 73,
   "metadata": {},
   "outputs": [],
   "source": [
    "#Exercise 1: Connect to your database server and print itsversion"
   ]
  },
  {
   "cell_type": "code",
   "execution_count": 2,
   "metadata": {},
   "outputs": [
    {
     "name": "stdout",
     "output_type": "stream",
     "text": [
      "MySQL Database connection successful\n"
     ]
    }
   ],
   "source": [
    "def create_server_connection(host_name, user_name, user_password):\n",
    "    connection = None\n",
    "    try:\n",
    "        connection = mysql.connector.connect(\n",
    "            host=host_name,\n",
    "            user=user_name,\n",
    "            passwd=user_password\n",
    "        )\n",
    "        print(\"MySQL Database connection successful\")\n",
    "    except Error as err:\n",
    "        print(f\"Error: '{err}'\")\n",
    "    return connection\n",
    "pw = \"sk!#*goodSQL123\" # IMPORTANT! Put your MySQL Terminal password here.\n",
    "db = \"python_db\" # This is the name of the database we will create in the next step - call it whatever you\n",
    "connection = create_server_connection(\"localhost\", \"root\", pw)"
   ]
  },
  {
   "cell_type": "code",
   "execution_count": 3,
   "metadata": {},
   "outputs": [],
   "source": [
    "def create_db_connection(host_name, user_name, user_password, db_name):\n",
    "    connection = None\n",
    "    try:\n",
    "        connection = mysql.connector.connect(\n",
    "            host=host_name,\n",
    "            user=user_name,\n",
    "            passwd=user_password,\n",
    "            database=db_name\n",
    "        )\n",
    "        print(\"MySQL Database connection successful\")\n",
    "    except Error as err:\n",
    "        print(f\"Error: '{err}'\")\n",
    "    return connection"
   ]
  },
  {
   "cell_type": "code",
   "execution_count": 5,
   "metadata": {},
   "outputs": [],
   "source": [
    "def execute_query(connection, query):\n",
    "    cursor = connection.cursor()\n",
    "    try:\n",
    "        cursor.execute(query)\n",
    "        connection.commit()\n",
    "        print(\"Query successful\")\n",
    "    except Error as err:\n",
    "        print(f\"Error: '{err}'\")"
   ]
  },
  {
   "cell_type": "code",
   "execution_count": 6,
   "metadata": {},
   "outputs": [],
   "source": [
    "def read_query(connection, query):\n",
    "    cursor = connection.cursor()\n",
    "    result = None\n",
    "    try:\n",
    "        cursor.execute(query)\n",
    "        result = cursor.fetchall()\n",
    "        return result\n",
    "    except Error as err:\n",
    "        print(f\"Error: '{err}'\")\n"
   ]
  },
  {
   "cell_type": "code",
   "execution_count": 74,
   "metadata": {},
   "outputs": [],
   "source": [
    "#Question 2: Fetch Hospital and Doctor Information usinghospital Id and doctor Id"
   ]
  },
  {
   "cell_type": "code",
   "execution_count": 7,
   "metadata": {},
   "outputs": [
    {
     "name": "stdout",
     "output_type": "stream",
     "text": [
      "MySQL Database connection successful\n",
      "(101, 'David', 1, datetime.date(2005, 2, 10), 'Pediatric', 40000, None)\n",
      "(102, 'Michael', 1, datetime.date(2018, 7, 23), 'Oncologist', 20000, None)\n",
      "(103, 'Susan', 2, datetime.date(2016, 5, 19), 'Garnacologist', 25000, None)\n",
      "(104, 'Robert', 2, datetime.date(2017, 12, 28), 'Pediatric ', 28000, None)\n",
      "(105, 'Linda', 3, datetime.date(2004, 6, 4), 'Garnacologist', 42000, None)\n",
      "(106, 'William', 3, datetime.date(2012, 9, 11), 'Dermatologist', 30000, None)\n",
      "(107, 'Richard', 4, datetime.date(2014, 8, 21), 'Garnacologist', 32000, None)\n",
      "(108, 'Karen', 4, datetime.date(2011, 10, 17), 'Radiologist', 30000, None)\n"
     ]
    }
   ],
   "source": [
    "q1 = \"\"\"\n",
    "SELECT *\n",
    "FROM doctor;\n",
    "\"\"\"\n",
    "connection = create_db_connection(\"localhost\", \"root\", pw, db)\n",
    "results = read_query(connection, q1)\n",
    "\n",
    "for result in results:\n",
    "    print(result)"
   ]
  },
  {
   "cell_type": "code",
   "execution_count": 19,
   "metadata": {},
   "outputs": [
    {
     "name": "stdout",
     "output_type": "stream",
     "text": [
      "MySQL Database connection successful\n",
      "(2, 'Cleveland Clinic', 400)\n"
     ]
    }
   ],
   "source": [
    "q1 = \"\"\"\n",
    "SELECT *\n",
    "FROM hospital\n",
    "WHERE Hospital_Id = 2;\n",
    "\"\"\"\n",
    "connection = create_db_connection(\"localhost\", \"root\", pw, db)\n",
    "results = read_query(connection, q1)\n",
    "for result in results:\n",
    "    print(result)\n"
   ]
  },
  {
   "cell_type": "code",
   "execution_count": 123,
   "metadata": {},
   "outputs": [
    {
     "name": "stdout",
     "output_type": "stream",
     "text": [
      "MySQL Database connection successful\n",
      "Hospital Id : 2\n",
      "Hospital Name : Cleveland Clinic\n",
      "Bed Count :  400\n"
     ]
    }
   ],
   "source": [
    "q1 = \"\"\"\n",
    "SELECT *\n",
    "FROM hospital\n",
    "WHERE Hospital_Id = 2;\n",
    "\"\"\"\n",
    "connection = create_db_connection(\"localhost\", \"root\", pw, db)\n",
    "hospital_id = read_query(connection, q1)\n",
    "\n",
    "def get_hospital_detail(hospital_id):\n",
    "    for row in hospital_id:\n",
    "        print(\"Hospital Id :\", row[0])\n",
    "        print(\"Hospital Name :\", row[1])\n",
    "        print(\"Bed Count : \", row[2])\n",
    "    \n",
    "get_hospital_detail(hospital_id)"
   ]
  },
  {
   "cell_type": "code",
   "execution_count": 125,
   "metadata": {
    "scrolled": true
   },
   "outputs": [
    {
     "name": "stdout",
     "output_type": "stream",
     "text": [
      "MySQL Database connection successful\n",
      "Doctor Id : 105\n",
      "Doctor Name : Linda\n",
      "Hospital Id :  3\n",
      "Joining Date :  2004-06-04\n",
      "Specialty :  Garnacologist\n",
      "Salary :  42000\n",
      "Experience:  None\n"
     ]
    }
   ],
   "source": [
    "q1 = \"\"\"\n",
    "SELECT *\n",
    "FROM doctor\n",
    "WHERE Doctor_Id = 105;\n",
    "\"\"\"\n",
    "connection = create_db_connection(\"localhost\", \"root\", pw, db)\n",
    "doctor_id = read_query(connection, q1)\n",
    "\n",
    "def get_hospital_detail(doctor_id):\n",
    "    for row in doctor_id:\n",
    "        print(\"Doctor Id :\", row[0])\n",
    "        print(\"Doctor Name :\", row[1])\n",
    "        print(\"Hospital Id : \", row[2])\n",
    "        print(\"Joining Date : \", row[3])\n",
    "        print(\"Specialty : \", row[4])\n",
    "        print(\"Salary : \", row[5])\n",
    "        print(\"Experience: \", row[6])\n",
    "    \n",
    "get_hospital_detail(doctor_id)"
   ]
  },
  {
   "cell_type": "code",
   "execution_count": 75,
   "metadata": {},
   "outputs": [],
   "source": [
    "#Exercise 3: Get the list Of doctors as per the given specialty and salary"
   ]
  },
  {
   "cell_type": "code",
   "execution_count": 138,
   "metadata": {},
   "outputs": [
    {
     "name": "stdout",
     "output_type": "stream",
     "text": [
      "MySQL Database connection successful\n",
      "Doctor Id:  105\n",
      "Doctor Name: Linda\n",
      "Hospital Id: 3\n",
      "Joining Date: 2004-06-04\n",
      "Specialty: Garnacologist\n",
      "Salary: 42000\n",
      "Experience: None \n",
      "\n",
      "Doctor Id:  107\n",
      "Doctor Name: Richard\n",
      "Hospital Id: 4\n",
      "Joining Date: 2014-08-21\n",
      "Specialty: Garnacologist\n",
      "Salary: 32000\n",
      "Experience: None \n",
      "\n"
     ]
    }
   ],
   "source": [
    "q1 = \"\"\"\n",
    "SELECT * FROM doctor WHERE Speciality = 'Garnacologist' and  Salary > 30000;\n",
    "\"\"\"\n",
    "connection = create_db_connection(\"localhost\", \"root\", pw, db)\n",
    "doctor_id = read_query(connection, q1)\n",
    "\n",
    "\n",
    "def get_specialist_doctors_list(speciality, salary):\n",
    "#Fetch doctor's details as per Speciality and Salary\n",
    "    for row in doctor_id:\n",
    "        print(\"Doctor Id: \", row[0])\n",
    "        print(\"Doctor Name:\", row[1])\n",
    "        print(\"Hospital Id:\", row[2])\n",
    "        print(\"Joining Date:\", row[3])\n",
    "        print(\"Specialty:\", row[4])\n",
    "        print(\"Salary:\", row[5])\n",
    "        print(\"Experience:\", row[6], \"\\n\")\n",
    "\n",
    "get_specialist_doctors_list(\"Garnacologist\", 30000)"
   ]
  },
  {
   "cell_type": "code",
   "execution_count": 76,
   "metadata": {},
   "outputs": [],
   "source": [
    "#Exercise 4: Get a list of doctors from a given hospital"
   ]
  },
  {
   "cell_type": "code",
   "execution_count": 143,
   "metadata": {},
   "outputs": [
    {
     "name": "stdout",
     "output_type": "stream",
     "text": [
      "MySQL Database connection successful\n",
      "Doctor Id:  103\n",
      "Doctor Name: Susan\n",
      "Speciality: Garnacologist\n",
      "Salary: 25000\n",
      "Experience: None\n",
      "Hospital_Name: Cleveland Clinic \n",
      "\n",
      "Doctor Id:  104\n",
      "Doctor Name: Robert\n",
      "Speciality: Pediatric \n",
      "Salary: 28000\n",
      "Experience: None\n",
      "Hospital_Name: Cleveland Clinic \n",
      "\n"
     ]
    }
   ],
   "source": [
    "q1 = \"\"\"\n",
    "SELECT A.Doctor_Id,A.Doctor_Name , A.Speciality , A.Salary, A.Experience,B.Hospital_Name, B.Hospital_Id\n",
    "FROM doctor AS A\n",
    "INNER JOIN hospital AS B\n",
    "ON B.Hospital_Id = A.Hospital_Id\n",
    " where b.Hospital_Id = 2;\n",
    "\"\"\"\n",
    "connection = create_db_connection(\"localhost\", \"root\", pw, db)\n",
    "doctor_id = read_query(connection, q1)\n",
    "\n",
    "\n",
    "def get_specialist_doctors_list(doctor_id):\n",
    "#Fetch doctor's details as per Speciality and Salary\n",
    "    for row in doctor_id:\n",
    "        print(\"Doctor Id: \", row[0])\n",
    "        print(\"Doctor Name:\", row[1])\n",
    "        print(\"Speciality:\", row[2])\n",
    "        print(\"Salary:\", row[3])\n",
    "        print(\"Experience:\", row[4])\n",
    "        print(\"Hospital_Name:\", row[5], \"\\n\")\n",
    "\n",
    "get_specialist_doctors_list(doctor_id)"
   ]
  },
  {
   "cell_type": "code",
   "execution_count": 98,
   "metadata": {},
   "outputs": [],
   "source": [
    "#Operation 5: Update doctor experience in years"
   ]
  },
  {
   "cell_type": "code",
   "execution_count": 100,
   "metadata": {},
   "outputs": [
    {
     "name": "stdout",
     "output_type": "stream",
     "text": [
      "MySQL Database connection successful\n",
      "Query successful\n"
     ]
    }
   ],
   "source": [
    "update = \"\"\"\n",
    "UPDATE doctor\n",
    "SET Experience = 15\n",
    "WHERE Doctor_Id = 101;\n",
    "\"\"\"\n",
    "connection = create_db_connection(\"localhost\", \"root\", pw, db)\n",
    "execute_query(connection, update)"
   ]
  },
  {
   "cell_type": "code",
   "execution_count": 109,
   "metadata": {},
   "outputs": [
    {
     "name": "stdout",
     "output_type": "stream",
     "text": [
      "MySQL Database connection successful\n",
      "Doctor Id : 101\n",
      "Doctor Name : David\n",
      "Hospital Id :  1\n",
      "Joining Date :  2005-02-10\n",
      "Specialty :  Pediatric\n",
      "Salary :  40000\n",
      "Experience:  15\n"
     ]
    }
   ],
   "source": [
    "q1 = \"\"\"\n",
    "SELECT *\n",
    "FROM doctor\n",
    "WHERE Doctor_Id = 101;\n",
    "\"\"\"\n",
    "connection = create_db_connection(\"localhost\", \"root\", pw, db)\n",
    "doctor_id = read_query(connection, q1)\n",
    "\n",
    "\n",
    "def update_doctor_experience(doctor_id):\n",
    "# Update Doctor Experience in Years\n",
    " for row in doctor_id:\n",
    "    print(\"Doctor Id :\", row[0])\n",
    "    print(\"Doctor Name :\", row[1])\n",
    "    print(\"Hospital Id : \", row[2])\n",
    "    print(\"Joining Date : \", row[3])\n",
    "    print(\"Specialty : \", row[4])\n",
    "    print(\"Salary : \", row[5])\n",
    "    print(\"Experience: \", row[6])\n",
    "        \n",
    "update_doctor_experience(doctor_id)"
   ]
  },
  {
   "cell_type": "code",
   "execution_count": null,
   "metadata": {},
   "outputs": [],
   "source": []
  }
 ],
 "metadata": {
  "kernelspec": {
   "display_name": "Python 3",
   "language": "python",
   "name": "python3"
  },
  "language_info": {
   "codemirror_mode": {
    "name": "ipython",
    "version": 3
   },
   "file_extension": ".py",
   "mimetype": "text/x-python",
   "name": "python",
   "nbconvert_exporter": "python",
   "pygments_lexer": "ipython3",
   "version": "3.8.5"
  }
 },
 "nbformat": 4,
 "nbformat_minor": 4
}
